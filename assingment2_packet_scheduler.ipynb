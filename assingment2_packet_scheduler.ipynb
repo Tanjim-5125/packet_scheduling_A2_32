{
 "cells": [
  {
   "cell_type": "markdown",
   "id": "b955bcfd",
   "metadata": {},
   "source": [
    "# Packet-Scheduling with Reinforcement Learning\n",
    "\n",
    "**Objective**  \n",
    "Build and compare:\n",
    "1. A custom Gym env for three-class packet scheduling (video/voice/best-effort).  \n",
    "2. Three fixed scheduling policies (FIFO, EDF, Sequential Priority).  \n",
    "3. A tabular Q-learning agent that meets hard-deadline constraints on P1/P2 while minimizing P3 delay for scenario 1.\n",
    "4. ...\n",
    "\n",
    "\n",
    "**Notebook roadmap**  \n",
    "1. [Problem formulation (MDP)](#formulation)  \n",
    "2. [Environment implementation](#env)  \n",
    "3. [Baseline policies](#baselines)  \n",
    "4. [Reinforcement-learning agent](#rl-agent)  \n",
    "5. [Results & comparison](#results)  \n",
    "6. [Conclusions & next steps](#conclusion)  "
   ]
  },
  {
   "cell_type": "markdown",
   "id": "63458512",
   "metadata": {},
   "source": [
    "## 1. MDP Formulation\n",
    "\n",
    "- **State**  \n",
    "  - \\(q_i\\): queue lengths for Video (P1), Voice (P2), Best-Effort (P3).  \n",
    "  - Slack times \\(\\Delta_1, \\Delta_2\\) for P1/P2 head-of-line packets.  \n",
    "  - Current queue pointer \\(c\\).  \n",
    "\n",
    "- **Actions**  \n",
    "  - Low-spec router: serve current queue, switch queue\n",
    "  - High-spec router: switch-and-serve  \n",
    "\n",
    "- **Reward**  \n",
    "  - ...\n",
    "\n",
    "- **Performance metrics**  \n",
    "  - Deadline violations (P1,P2)  \n",
    "  - Mean delay for P3  "
   ]
  },
  {
   "cell_type": "markdown",
   "id": "6abce5f3",
   "metadata": {},
   "source": [
    "### Imports"
   ]
  },
  {
   "cell_type": "code",
   "execution_count": 89,
   "id": "5dc0b0ba-37d8-4a16-9500-676d588d36cf",
   "metadata": {},
   "outputs": [],
   "source": [
    "import matplotlib.pyplot as plt\n",
    "import numpy as np\n",
    "from gymnasium import Env, spaces\n",
    "from gymnasium.utils import seeding\n",
    "from IPython.display import clear_output\n",
    "import time\n",
    "from collections import defaultdict, deque\n",
    "import random"
   ]
  },
  {
   "cell_type": "markdown",
   "id": "893576b9",
   "metadata": {},
   "source": [
    "## 2. PacketSchedulerEnv\n",
    "\n",
    "We implement a Gym Env with:\n",
    "- Poisson arrivals (λ₁=0.3, λ₂=0.25, λ₃=0.4)\n",
    "- Three FIFO queues with per-queue QoS limits [6,4,None]\n",
    "- Two scenarios:  \n",
    "  1. Low-spec router (three actions available -- switch queue, serve queue, and do nothing -- both with cost of one timeslot)  \n",
    "  2. High-spec router (two actiona available -- switch queue and serve, serve current queue, and do nothing -- both of which have a cost of one timeslot) *still need to implement*"
   ]
  },
  {
   "cell_type": "code",
   "execution_count": null,
   "id": "e8e297fe-f8a0-4ffe-bf43-4645b2bf5f92",
   "metadata": {},
   "outputs": [],
   "source": [
    "class PacketSchedulerEnv(Env):\n",
    "    \"\"\"\n",
    "    OpenAI Gymnasium environment simulating packet scheduling across three queues:\n",
    "    \"\"\"\n",
    "\n",
    "    def __init__(self, scenario=1, arrival_probs = [0.3, 0.25, 0.4], seed = None) :\n",
    "        \"\"\"\n",
    "        Constructor\n",
    "        takes the scenario 1 or 2 as arguments\n",
    "        \"\"\"\n",
    "        super().__init__()\n",
    "        self.num_queues = 3\n",
    "        self.max_queue_size = 50\n",
    "        self.scenario = scenario\n",
    "        self.current_queue = 0  # Only used in scenario 2\n",
    "        self.time = 0\n",
    "        self.empty_serving = 0\n",
    "\n",
    "        self.qos_limits = [6, 4, None]  # Video, Voice, Best-Effort\n",
    "        self.arrival_probs = arrival_probs\n",
    "\n",
    "        self.observation_space = spaces.Box(\n",
    "            low=0, high=self.max_queue_size, shape=(self.num_queues,), dtype=np.int32\n",
    "        )\n",
    "        self.action_space = spaces.Discrete(3)\n",
    "        ## seed control\n",
    "        self.global_seed = seed\n",
    "        self._apply_global_seed(seed)\n",
    "\n",
    "        self.episode_rewards = []\n",
    "        self.reset()\n",
    "\n",
    "    def _apply_global_seed(self, seed):\n",
    "        if seed is not None:\n",
    "            np.random.seed(seed)\n",
    "            random.seed(seed)\n",
    "            self.action_space.seed(seed)\n",
    "            self.observation_space.seed(seed)\n",
    "\n",
    "    def reset(self, seed=None, options=None):\n",
    "        real_seed = seed if seed is not None else self.global_seed\n",
    "        self._apply_global_seed(real_seed)\n",
    "        self.current_queue = np.random.choice([0, 1, 2])\n",
    "        self.arrival_counts = [0 for _ in range(self.num_queues)]\n",
    "        self.queues = [[] for _ in range(self.num_queues)]\n",
    "        self.time = 0\n",
    "        self.history = []\n",
    "        self.served_delays = [[] for _ in range(self.num_queues)]\n",
    "        self.violations = [0, 0]\n",
    "        self.total_episode_reward = 0\n",
    "        self.empty_serving = 0\n",
    "        return self.get_observations(), {}\n",
    "\n",
    "    def get_observations(self):\n",
    "        return np.array([len(q) for q in self.queues])\n",
    "\n",
    "    def generate_packets(self):\n",
    "        for queue_id, rate in enumerate(self.arrival_probs):\n",
    "            if np.random.rand() < rate:\n",
    "                if len(self.queues[queue_id]) < self.max_queue_size:\n",
    "                    self.queues[queue_id].append(self.time)\n",
    "                    self.arrival_counts[queue_id] += 1\n",
    "\n",
    "    def queue_has_packets(self, queue_idx):\n",
    "        return len(self.queues[queue_idx]) > 0\n",
    "\n",
    "    def compute_packet_delay(self, arrival_time):\n",
    "        return self.time - arrival_time\n",
    "\n",
    "    def compute_reward(self, queue_idx, delay):\n",
    "        if self.scenario == 2:\n",
    "            return self.compute_reward_scenario2(queue_idx, delay)\n",
    "        # Scenario 1 reward\n",
    "        qos_limit = self.qos_limits[queue_idx]\n",
    "        if qos_limit is not None:\n",
    "            if delay <= qos_limit:\n",
    "                time_left_ratio = (qos_limit - delay) / qos_limit\n",
    "                urgency_bonus = 2.0 * (1 - time_left_ratio)\n",
    "                return 3.5 + urgency_bonus if queue_idx == 0 else 4.0 + urgency_bonus\n",
    "            else:\n",
    "                violation_ratio = (delay - qos_limit) / qos_limit\n",
    "                return max(-10.0, -6.0 * (1 + violation_ratio ** 1.5))\n",
    "        else:\n",
    "            return max(0.1, 1.2 - 0.03 * delay)\n",
    "\n",
    "    def compute_reward_scenario2(self, queue_idx, delay):\n",
    "        qos_limit = self.qos_limits[queue_idx]\n",
    "        fairness_penalty = 0.0\n",
    "        # Penalize all queues with long lengths\n",
    "        for idx in range(self.num_queues):\n",
    "            qlen = len(self.queues[idx])\n",
    "            if qlen > 10:\n",
    "                fairness_penalty -= 1.5 * (qlen - 10)\n",
    "        # Bonus for serving starved queues\n",
    "        if len(self.queues[queue_idx]) > 10:\n",
    "            fairness_penalty += 5.0\n",
    "        # Additional logic for BE queue when urgent packets exist\n",
    "        if queue_idx == 2:\n",
    "            urgent_video = bool(self.queues[0]) and (self.qos_limits[0] - (self.time - self.queues[0][0]) <= 1)\n",
    "            urgent_voice = bool(self.queues[1]) and (self.qos_limits[1] - (self.time - self.queues[1][0]) <= 1)\n",
    "            if urgent_video or urgent_voice:\n",
    "                return -50.0 + fairness_penalty\n",
    "            return max(0.1, 1.0 - 0.04 * delay) + fairness_penalty\n",
    "        if qos_limit is not None:\n",
    "            if delay <= qos_limit:\n",
    "                return (15.0 - 2.0 * (qos_limit - delay)) + fairness_penalty\n",
    "            else:\n",
    "                return -100.0 + fairness_penalty\n",
    "        return 0.1 + fairness_penalty\n",
    "\n",
    "    def serve_queue(self, queue_idx):\n",
    "        if not self.queue_has_packets(queue_idx):\n",
    "            self.empty_serving += 1\n",
    "            return -2.0  # Penalty for serving empty queue\n",
    "        arrival_time = self.queues[queue_idx].pop(0)\n",
    "        delay = self.compute_packet_delay(arrival_time)\n",
    "        self.served_delays[queue_idx].append(delay)\n",
    "        if queue_idx < 2 and delay > self.qos_limits[queue_idx]:\n",
    "            self.violations[queue_idx] += 1\n",
    "        return self.compute_reward(queue_idx, delay)\n",
    "\n",
    "    def process_action(self, action):\n",
    "        if self.scenario == 1:\n",
    "            return self.process_action_scenario1(action)\n",
    "        elif self.scenario == 2:\n",
    "            return self.process_action_scenario2(action)\n",
    "\n",
    "    def process_action_scenario1(self, action):\n",
    "        # Serve directly selected queue (0,1,2)\n",
    "        return action, 0\n",
    "\n",
    "    def process_action_scenario2(self, action):\n",
    "        # Action 0: Serve current queue, Action 1: Switch (with penalty)\n",
    "        if action == 1:\n",
    "            penalty = 0.0\n",
    "            self.current_queue = (self.current_queue + 1) % self.num_queues\n",
    "            self.time += 1\n",
    "            return None, penalty\n",
    "        else:\n",
    "            return self.current_queue, 0\n",
    "\n",
    "    def step(self, action):\n",
    "        self.generate_packets()\n",
    "        if self.scenario == 1:\n",
    "            selected_queue, reward = self.process_action_scenario1(action)\n",
    "            if selected_queue is not None:\n",
    "                serve_reward = self.serve_queue(selected_queue)\n",
    "                reward += serve_reward\n",
    "                self.time += 1\n",
    "            reward += self.compute_starvation_penalty()\n",
    "        elif self.scenario == 2:\n",
    "            selected_queue, reward = self.process_action_scenario2(action)\n",
    "            if selected_queue is not None:\n",
    "                serve_reward = self.serve_queue(selected_queue)\n",
    "                reward += serve_reward\n",
    "                self.time += 1\n",
    "            reward += self.compute_starvation_penalty()\n",
    "        self.total_episode_reward += reward\n",
    "        return self.get_observations(), reward, self._check_done(), False, {}\n",
    "\n",
    "    def compute_starvation_penalty(self):\n",
    "        starvation_penalty = 0.0\n",
    "        for i, q in enumerate(self.queues):\n",
    "            if q:\n",
    "                head_age = self.time - q[0]\n",
    "                if self.qos_limits[i] is not None:\n",
    "                    threshold = 0.3 * self.qos_limits[i]\n",
    "                    if head_age > threshold:\n",
    "                        starvation_penalty -= 3.0 * ((head_age - threshold) / self.qos_limits[i])\n",
    "                else:\n",
    "                    if len(q) > 10:\n",
    "                        starvation_penalty -= 0.1 * (len(q) - 10)\n",
    "        return starvation_penalty\n",
    "\n",
    "    def draw_network_queue(self):\n",
    "        queue_lengths = [len(q) for q in self.queues]\n",
    "        self.history.append(queue_lengths)\n",
    "        clear_output(wait=True)\n",
    "        plt.figure(figsize=(5, 4))\n",
    "        plt.bar([\"Video\", \"Voice\", \"Best-Effort\"], queue_lengths, color=[\"blue\", \"orange\", \"green\"])\n",
    "        plt.ylim(0, self.max_queue_size)\n",
    "        plt.title(f\"Time Step: {self.time}\")\n",
    "        plt.ylabel(\"Packets in Queue\")\n",
    "        plt.grid(True)\n",
    "        plt.show()\n",
    "\n",
    "    def get_statistics(self):\n",
    "        mean_delays = [np.mean(q) if q else None for q in self.served_delays]\n",
    "        violation_rates = [self.violations[i] / max(1, len(self.served_delays[i])) for i in range(2)]\n",
    "        stats = {\n",
    "            'queue_lengths': [len(q) for q in self.queues],\n",
    "            'arrivals': self.arrival_counts.copy(),\n",
    "            'served': [len(q) for q in self.served_delays],\n",
    "            'mean_delays': mean_delays,\n",
    "            'qos_violations': self.violations.copy(),\n",
    "            'violation_rates': violation_rates,\n",
    "            'empty_queue_penalty_count': self.empty_serving\n",
    "        }\n",
    "        for i in range(self.num_queues):\n",
    "            if stats['arrivals'][i] > 0 and stats['served'][i] == 0:\n",
    "                print(f\"WARNING: Queue {i} had arrivals ({stats['arrivals'][i]}) but was never served!\")\n",
    "        return stats\n",
    "\n",
    "    def _check_done(self):\n",
    "        return sum([len(q) for q in self.queues]) == 0 and sum(self.arrival_counts) > 0\n",
    "\n"
   ]
  },
  {
   "cell_type": "markdown",
   "id": "12b4cdda",
   "metadata": {},
   "source": [
    "### 2.1. Quick Environment Sanity Check\n",
    "\n",
    "Instantiate the env with random policy for packet scheduling and print its initial statistics."
   ]
  },
  {
   "cell_type": "code",
   "execution_count": 91,
   "id": "80bb53f7-5c62-4e6e-a7c1-5d1283e29e24",
   "metadata": {},
   "outputs": [
    {
     "data": {
      "image/png": "[encoded data removed]",
      "text/plain": [
       "<Figure size 500x400 with 1 Axes>"
      ]
     },
     "metadata": {},
     "output_type": "display_data"
    }
   ],
   "source": [
    "env = PacketSchedulerEnv(scenario=1)\n",
    "obs, _ = env.reset()\n",
    "\n",
    "for _ in range(50):\n",
    "    action = env.action_space.sample()  # Random policy\n",
    "    obs, reward, done, truncated, info = env.step(action)\n",
    "    env.draw_network_queue()\n",
    "    time.sleep(0.2)\n"
   ]
  },
  {
   "cell_type": "code",
   "execution_count": 92,
   "id": "e3702eeb",
   "metadata": {
    "scrolled": true
   },
   "outputs": [
    {
     "data": {
      "text/plain": [
       "{'queue_lengths': [0, 2, 1],\n",
       " 'arrivals': [11, 8, 13],\n",
       " 'served': [11, 6, 12],\n",
       " 'mean_delays': [1.1818181818181819, 4.666666666666667, 3.4166666666666665],\n",
       " 'qos_violations': [0, 3],\n",
       " 'violation_rates': [0.0, 0.5],\n",
       " 'empty_queue_penalty_count': 21}"
      ]
     },
     "execution_count": 92,
     "metadata": {},
     "output_type": "execute_result"
    }
   ],
   "source": [
    "env.get_statistics()"
   ]
  },
  {
   "cell_type": "markdown",
   "id": "354e0ead",
   "metadata": {},
   "source": [
    "## 3. Baseline Policies\n",
    "\n",
    "We’ll now compare three fixed schedulers under the same traffic:\n",
    "1. **FIFO** – serve the oldest arrival  \n",
    "2. **EDF** – serve the packet with minimum (deadline – current_wait). i.e. closest to QoS breach  \n",
    "3. **Sequential Priority** – always serve the highest-priority non-empty queue"
   ]
  },
  {
   "cell_type": "code",
   "execution_count": 93,
   "id": "5bc653c7-a6cf-44c6-a71e-3e27a1383383",
   "metadata": {},
   "outputs": [
    {
     "data": {
      "image/png": "[encoded data removed]",
      "text/plain": [
       "<Figure size 500x400 with 1 Axes>"
      ]
     },
     "metadata": {},
     "output_type": "display_data"
    },
    {
     "name": "stdout",
     "output_type": "stream",
     "text": [
      "FIFO policy results: {'queue_lengths': [4, 6, 6], 'arrivals': [29, 32, 48], 'served': [25, 26, 42], 'mean_delays': [4.8, 5.423076923076923, 5.476190476190476], 'qos_violations': [8, 17], 'violation_rates': [0.32, 0.6538461538461539], 'empty_queue_penalty_count': 7}\n"
     ]
    }
   ],
   "source": [
    "# ─────────────────────────────────────────────────────────────────────────────\n",
    "# Always serve the packet that arrived earliest\n",
    "# ─────────────────────────────────────────────────────────────────────────────\n",
    "\n",
    "# 1. Instantiate & reset\n",
    "env = PacketSchedulerEnv(scenario=1)\n",
    "obs, _ = env.reset()\n",
    "\n",
    "# 2. Run for T steps under FIFO\n",
    "T = 100\n",
    "for t in range(T):\n",
    "    # Look at the head‐of‐line arrival time in each queue (or ∞ if empty)\n",
    "    arrival_times = [\n",
    "        q[0] if len(q) > 0 else float('inf')\n",
    "        for q in env.queues\n",
    "    ]\n",
    "    # Pick the queue whose first packet arrived earliest\n",
    "    action = int(np.argmin(arrival_times))\n",
    "    \n",
    "    # Step the environment\n",
    "    obs, reward, done, truncated, info = env.step(action)\n",
    "    \n",
    "    # (Optional) visualize queue lengths live\n",
    "    env.draw_network_queue()\n",
    "    time.sleep(0.1)\n",
    "\n",
    "# 3. Gather & print post‐run statistics\n",
    "stats = env.get_statistics()\n",
    "print(\"FIFO policy results:\", stats)"
   ]
  },
  {
   "cell_type": "code",
   "execution_count": 94,
   "id": "2aa7b567",
   "metadata": {},
   "outputs": [
    {
     "data": {
      "image/png": "[encoded data removed]",
      "text/plain": [
       "<Figure size 500x400 with 1 Axes>"
      ]
     },
     "metadata": {},
     "output_type": "display_data"
    },
    {
     "name": "stdout",
     "output_type": "stream",
     "text": [
      "WARNING: Queue 2 had arrivals (44) but was never served!\n",
      "Slack‐aware policy results: {'queue_lengths': [0, 1, 44], 'arrivals': [35, 27, 44], 'served': [35, 26, 0], 'mean_delays': [0.6285714285714286, 1.0, None], 'qos_violations': [0, 0], 'violation_rates': [0.0, 0.0], 'empty_queue_penalty_count': 39}\n"
     ]
    }
   ],
   "source": [
    "# ─────────────────────────────────────────────────────────────────────────────\n",
    "# always serve the packet whose (qos_limit – accumulated_delay) is smallest\n",
    "# ─────────────────────────────────────────────────────────────────────────────\n",
    "\n",
    "# 1) instantiate & reset\n",
    "env = PacketSchedulerEnv(scenario=1)\n",
    "obs, _ = env.reset()\n",
    "\n",
    "# 2) pull out the per‐queue QoS limits (mean‐delay requirements)\n",
    "mean_reqs = env.qos_limits    # e.g. [6, 4, None]\n",
    "\n",
    "# 3) run for T steps\n",
    "T = 100\n",
    "for t in range(T):\n",
    "    slacks = []\n",
    "    for i, q in enumerate(env.queues):\n",
    "        # if queue is non‐empty and has a finite QoS limit\n",
    "        if q and (mean_reqs[i] is not None):\n",
    "            arrival_time = q[0]                   # packets stored as simple arrival_time\n",
    "            acc_delay    = env.time - arrival_time  # or t – arrival_time, both track sim time\n",
    "            slack        = mean_reqs[i] - acc_delay\n",
    "        else:\n",
    "            # empty queue or no deadline ⇒ never highest priority\n",
    "            slack = float('inf')\n",
    "        slacks.append(slack)\n",
    "\n",
    "    # choose the queue with minimum slack\n",
    "    action = int(np.argmin(slacks))\n",
    "\n",
    "    # step the env \n",
    "    obs, reward, done, truncated, info = env.step(action)\n",
    "    env.draw_network_queue()\n",
    "    time.sleep(0.1)\n",
    "\n",
    "# 4) final statistics\n",
    "stats = env.get_statistics()\n",
    "print(\"Slack‐aware policy results:\", stats)"
   ]
  },
  {
   "cell_type": "code",
   "execution_count": 95,
   "id": "3d6a10b7",
   "metadata": {},
   "outputs": [
    {
     "data": {
      "image/png": "[encoded data removed]",
      "text/plain": [
       "<Figure size 500x400 with 1 Axes>"
      ]
     },
     "metadata": {},
     "output_type": "display_data"
    },
    {
     "name": "stdout",
     "output_type": "stream",
     "text": [
      "Priority‐policy results: {'queue_lengths': [0, 0, 3], 'arrivals': [29, 20, 48], 'served': [29, 20, 45], 'mean_delays': [0.896551724137931, 1.7, 4.4], 'qos_violations': [0, 0], 'violation_rates': [0.0, 0.0], 'empty_queue_penalty_count': 6}\n"
     ]
    }
   ],
   "source": [
    "# ─────────────────────────────────────────────────────────────────────────────\n",
    "# always serve the highest‐priority non‐empty queue\n",
    "# ─────────────────────────────────────────────────────────────────────────────\n",
    "\n",
    "# 1) instantiate & reset\n",
    "SEED = 42\n",
    "env = PacketSchedulerEnv(scenario=1, seed=SEED)\n",
    "obs, _ = env.reset()\n",
    "SEED = 42\n",
    "# 2) run for T steps\n",
    "T = 100\n",
    "for t in range(T):\n",
    "    # pick the highest‐priority non‐empty queue\n",
    "    action = None\n",
    "    for q_idx in range(env.num_queues):\n",
    "        if env.queues[q_idx]:\n",
    "            action = q_idx\n",
    "            break\n",
    "    # if all queues empty, default to queue 0 (no service will happen)\n",
    "    if action is None:\n",
    "        action = 0\n",
    "\n",
    "    # step & visualize\n",
    "    obs, reward, done, truncated, info = env.step(action)\n",
    "    env.draw_network_queue()\n",
    "    time.sleep(0.1)\n",
    "\n",
    "# 3) report statistics\n",
    "stats = env.get_statistics()\n",
    "print(\"Priority‐policy results:\", stats)"
   ]
  },
  {
   "cell_type": "markdown",
   "id": "3fc1b1fa",
   "metadata": {},
   "source": [
    "## 5. Tabular Q-Learning Agent\n",
    "\n",
    "We’ll train a tabular Q-learning agent using scenario 1:\n",
    "- **State**: discretized queue lengths  \n",
    "- **Action space**: 3 choices (switch queue, serve queue, do nothing)\n",
    "- **Hyperparameters**:  \n",
    "  - α=0.1, γ=0.99  \n",
    "  - ε-greedy exploration (ε₀=1.0 → εₘᵢₙ=0.01)  \n",
    "  - Episodes=500, max_steps=100  "
   ]
  },
  {
   "cell_type": "code",
   "execution_count": 96,
   "id": "f68d0ca6",
   "metadata": {},
   "outputs": [
    {
     "name": "stdout",
     "output_type": "stream",
     "text": [
      "Episode 100/2000  total_reward=3.5  ε=0.500\n",
      "Episode 200/2000  total_reward=1.2  ε=0.500\n",
      "Episode 300/2000  total_reward=-158.1  ε=0.500\n",
      "Episode 400/2000  total_reward=-3.7  ε=0.500\n",
      "Episode 500/2000  total_reward=-2.8  ε=0.500\n",
      "Episode 600/2000  total_reward=8.0  ε=0.500\n",
      "Episode 700/2000  total_reward=200.9  ε=0.500\n",
      "Episode 800/2000  total_reward=55.0  ε=0.500\n",
      "Episode 900/2000  total_reward=58.2  ε=0.500\n",
      "Episode 1000/2000  total_reward=10.0  ε=0.500\n",
      "Episode 1100/2000  total_reward=1.5  ε=0.500\n",
      "Episode 1200/2000  total_reward=-259.6  ε=0.500\n",
      "Episode 1300/2000  total_reward=0.8  ε=0.500\n",
      "Episode 1400/2000  total_reward=1.0  ε=0.500\n",
      "Episode 1500/2000  total_reward=2.0  ε=0.500\n",
      "Episode 1600/2000  total_reward=-0.8  ε=0.500\n",
      "Episode 1700/2000  total_reward=1.2  ε=0.500\n",
      "Episode 1800/2000  total_reward=-10.4  ε=0.500\n",
      "Episode 1900/2000  total_reward=4.0  ε=0.500\n",
      "Episode 2000/2000  total_reward=-2.1  ε=0.500\n"
     ]
    }
   ],
   "source": [
    "# ─────────────────────────────────────────────────────────────────────────────\n",
    "# Tabular Q-Learning for PacketSchedulerEnv (scenario 1)\n",
    "# ─────────────────────────────────────────────────────────────────────────────\n",
    "SEED = 42\n",
    "\n",
    "# 1) Create the environment\n",
    "env = PacketSchedulerEnv(scenario=1, seed = SEED)\n",
    "\n",
    "# 2) Q-table: maps state (tuple) → array of action-values\n",
    "Q = defaultdict(lambda: np.zeros(env.action_space.n))\n",
    "\n",
    "# 3) Hyperparameters\n",
    "alpha         = 0.5    # learning rate\n",
    "gamma         = 0.99   # discount factor\n",
    "epsilon       = 1.0    # initial exploration rate\n",
    "epsilon_min   = 0.5   # minimum ε\n",
    "epsilon_decay = 0.9  # multiplicative decay per episode\n",
    "num_episodes  = 2000\n",
    "max_steps     = 150    # max steps per episode\n",
    "\n",
    "# 4) Training loop\n",
    "for ep in range(1, num_episodes+1):\n",
    "    obs, _ = env.reset(seed=SEED + ep)\n",
    "    state = tuple(obs)            # cast observation to immutable\n",
    "    total_reward = 0.0\n",
    "\n",
    "    for t in range(max_steps):\n",
    "        # ε-greedy action selection\n",
    "        if np.random.rand() < epsilon:\n",
    "            action = env.action_space.sample()\n",
    "        else:\n",
    "            action = int(np.argmax(Q[state]))\n",
    "\n",
    "        # take action\n",
    "        obs2, reward, done, truncated, info = env.step(action)\n",
    "        next_state = tuple(obs2)\n",
    "        total_reward += reward\n",
    "\n",
    "        # Q-learning update\n",
    "        best_next = np.max(Q[next_state])\n",
    "        td_target = reward + gamma * best_next\n",
    "        Q[state][action] += alpha * (td_target - Q[state][action])\n",
    "\n",
    "        state = next_state\n",
    "        if done or truncated:\n",
    "            break\n",
    "\n",
    "    # decay ε\n",
    "    epsilon = max(epsilon_min, epsilon * epsilon_decay)\n",
    "    stats = env.get_statistics()\n",
    "    if ep % 100 == 0:\n",
    "        print(f\"Episode {ep}/{num_episodes}  total_reward={total_reward:.1f}  ε={epsilon:.3f}\")\n",
    "\n"
   ]
  },
  {
   "cell_type": "code",
   "execution_count": 97,
   "id": "01328bed-5060-44e9-bffb-bb26689b21b5",
   "metadata": {},
   "outputs": [
    {
     "data": {
      "image/png": "[encoded data removed]",
      "text/plain": [
       "<Figure size 500x400 with 1 Axes>"
      ]
     },
     "metadata": {},
     "output_type": "display_data"
    },
    {
     "name": "stdout",
     "output_type": "stream",
     "text": [
      "Trained Q-Learning policy results: {'queue_lengths': [0, 0, 5], 'arrivals': [29, 20, 48], 'served': [29, 20, 43], 'mean_delays': [1.103448275862069, 1.5, 6.813953488372093], 'qos_violations': [0, 0], 'violation_rates': [0.0, 0.0], 'empty_queue_penalty_count': 8}\n"
     ]
    }
   ],
   "source": [
    "# 5) Evaluate the learned policy\n",
    "obs, _ = env.reset(seed=SEED)\n",
    "state = tuple(obs)\n",
    "for t in range(100):\n",
    "    action = int(np.argmax(Q[state]))\n",
    "    obs, reward, done, truncated, info = env.step(action)\n",
    "    env.draw_network_queue()\n",
    "    time.sleep(0.1)\n",
    "    state = tuple(obs)\n",
    "    if done or truncated:\n",
    "        break\n",
    "\n",
    "print(\"Trained Q-Learning policy results:\", env.get_statistics())"
   ]
  },
  {
   "cell_type": "code",
   "execution_count": 98,
   "id": "db9908f6",
   "metadata": {},
   "outputs": [],
   "source": [
    "def coarse_bin_length(length, max_size=50):\n",
    "    if length == 0:\n",
    "        return 0\n",
    "    elif length <= max_size * 0.2:\n",
    "        return 1\n",
    "    elif length <= max_size * 0.7:\n",
    "        return 2\n",
    "    else:\n",
    "        return 3\n",
    "\n",
    "def coarse_bin_slack(slack, qos_limit):\n",
    "    # -2 = expired, -1 = urgent, 0 = approaching, 1 = safe, 2 = plenty\n",
    "    if slack <= 0:\n",
    "        return -2\n",
    "    elif slack < qos_limit * 0.2:\n",
    "        return -1\n",
    "    elif slack < qos_limit * 0.5:\n",
    "        return 0\n",
    "    elif slack < qos_limit * 0.8:\n",
    "        return 1\n",
    "    else:\n",
    "        return 2\n",
    "\n",
    "def get_coarse_state(env):\n",
    "    len0 = coarse_bin_length(len(env.queues[0]), env.max_queue_size)\n",
    "    len1 = coarse_bin_length(len(env.queues[1]), env.max_queue_size)\n",
    "    len2 = coarse_bin_length(len(env.queues[2]), env.max_queue_size)\n",
    "    slack0 = env.qos_limits[0] - (env.time - env.queues[0][0]) if env.queues[0] else env.qos_limits[0]\n",
    "    slack1 = env.qos_limits[1] - (env.time - env.queues[1][0]) if env.queues[1] else env.qos_limits[1]\n",
    "    slack_bin0 = coarse_bin_slack(slack0, env.qos_limits[0])\n",
    "    slack_bin1 = coarse_bin_slack(slack1, env.qos_limits[1])\n",
    "    return (env.current_queue, len0, len1, len2, slack_bin0, slack_bin1)"
   ]
  },
  {
   "cell_type": "code",
   "execution_count": 99,
   "id": "e7564503-9f1a-4ed1-8492-8eaf0ceab190",
   "metadata": {},
   "outputs": [
    {
     "name": "stdout",
     "output_type": "stream",
     "text": [
      "Episode 500/10000 | Reward: -30395.65 | Video Violation: 0.41 | Voice Violation: 1.00 | Epsilon: 0.200\n",
      "Episode 1000/10000 | Reward: -21632.32 | Video Violation: 1.00 | Voice Violation: 0.67 | Epsilon: 0.200\n",
      "Episode 1500/10000 | Reward: -29137.90 | Video Violation: 0.92 | Voice Violation: 0.55 | Epsilon: 0.200\n",
      "Episode 2000/10000 | Reward: -26616.60 | Video Violation: 0.71 | Voice Violation: 0.90 | Epsilon: 0.200\n",
      "Episode 2500/10000 | Reward: -31348.85 | Video Violation: 0.93 | Voice Violation: 1.00 | Epsilon: 0.200\n",
      "Episode 3000/10000 | Reward: 3.00 | Video Violation: 0.00 | Voice Violation: 0.00 | Epsilon: 0.200\n",
      "Episode 3500/10000 | Reward: -29380.60 | Video Violation: 1.00 | Voice Violation: 1.00 | Epsilon: 0.200\n",
      "Episode 4000/10000 | Reward: -32029.15 | Video Violation: 0.23 | Voice Violation: 1.00 | Epsilon: 0.200\n",
      "Episode 4500/10000 | Reward: -26578.60 | Video Violation: 0.59 | Voice Violation: 1.00 | Epsilon: 0.200\n",
      "Episode 5000/10000 | Reward: -26187.70 | Video Violation: 0.83 | Voice Violation: 0.45 | Epsilon: 0.200\n",
      "Episode 5500/10000 | Reward: -26920.95 | Video Violation: 0.89 | Voice Violation: 0.56 | Epsilon: 0.200\n",
      "Episode 6000/10000 | Reward: -26243.25 | Video Violation: 1.00 | Voice Violation: 0.97 | Epsilon: 0.200\n",
      "Episode 6500/10000 | Reward: -24700.35 | Video Violation: 0.77 | Voice Violation: 0.74 | Epsilon: 0.200\n",
      "Episode 7000/10000 | Reward: -25116.15 | Video Violation: 1.00 | Voice Violation: 0.65 | Epsilon: 0.200\n",
      "Episode 7500/10000 | Reward: 1.00 | Video Violation: 0.00 | Voice Violation: 0.00 | Epsilon: 0.200\n",
      "Episode 8000/10000 | Reward: -31059.45 | Video Violation: 0.92 | Voice Violation: 0.56 | Epsilon: 0.200\n",
      "Episode 8500/10000 | Reward: -27990.80 | Video Violation: 0.59 | Voice Violation: 0.69 | Epsilon: 0.200\n",
      "Episode 9000/10000 | Reward: 1.00 | Video Violation: 0.00 | Voice Violation: 0.00 | Epsilon: 0.200\n",
      "Episode 9500/10000 | Reward: -28749.64 | Video Violation: 0.28 | Voice Violation: 1.00 | Epsilon: 0.200\n",
      "Episode 10000/10000 | Reward: -27765.70 | Video Violation: 1.00 | Voice Violation: 0.75 | Epsilon: 0.200\n"
     ]
    }
   ],
   "source": [
    "# ─────────────────────────────────────────────────────────────────────────────\n",
    "# Tabular Q-Learning for PacketSchedulerEnv (scenario 2)\n",
    "# ─────────────────────────────────────────────────────────────────────────────\n",
    "SEED = 42\n",
    "\n",
    "env = PacketSchedulerEnv(scenario=2, seed=SEED)\n",
    "Q = defaultdict(lambda: np.zeros(env.action_space.n))\n",
    "\n",
    "alpha         = 0.7\n",
    "gamma         = 0.99\n",
    "epsilon       = 1.0\n",
    "epsilon_min   = 0.2\n",
    "epsilon_decay = 0.9\n",
    "num_episodes  = 10000\n",
    "max_steps     = 250\n",
    "\n",
    "for ep in range(1, num_episodes + 1):\n",
    "    obs, _ = env.reset(seed=SEED + ep)\n",
    "    state = get_coarse_state(env)\n",
    "    total_reward = 0\n",
    "\n",
    "    for t in range(max_steps):\n",
    "        if np.random.rand() < epsilon:\n",
    "            action = env.action_space.sample()\n",
    "        else:\n",
    "            action = int(np.argmax(Q[state]))\n",
    "\n",
    "        obs2, reward, done, truncated, _ = env.step(action)\n",
    "        next_state = get_coarse_state(env)\n",
    "        total_reward += reward\n",
    "\n",
    "        # Q-learning update\n",
    "        best_next = np.max(Q[next_state])\n",
    "        Q[state][action] += alpha * (reward + gamma * best_next - Q[state][action])\n",
    "\n",
    "        state = next_state\n",
    "        if done or truncated:\n",
    "            break\n",
    "\n",
    "    epsilon = max(epsilon_min, epsilon * epsilon_decay)\n",
    "    if ep % 500 == 0:\n",
    "        stats = env.get_statistics()\n",
    "        print(f\"Episode {ep}/{num_episodes} | Reward: {total_reward:.2f} | \"\n",
    "              f\"Video Violation: {stats['violation_rates'][0]:.2f} | \"\n",
    "              f\"Voice Violation: {stats['violation_rates'][1]:.2f} | \"\n",
    "              f\"Epsilon: {epsilon:.3f}\")\n"
   ]
  },
  {
   "cell_type": "code",
   "execution_count": 100,
   "id": "29d76d3d-ff94-49fa-8e04-ea30bea31791",
   "metadata": {},
   "outputs": [
    {
     "data": {
      "image/png": "[encoded data removed]",
      "text/plain": [
       "<Figure size 500x400 with 1 Axes>"
      ]
     },
     "metadata": {},
     "output_type": "display_data"
    },
    {
     "name": "stdout",
     "output_type": "stream",
     "text": [
      "Trained Q-Learning policy results scenario 2 binned:\n",
      " {'queue_lengths': [1, 0, 40], 'arrivals': [29, 20, 48], 'served': [28, 20, 8], 'mean_delays': [3.4285714285714284, 7.25, 28.875], 'qos_violations': [1, 9], 'violation_rates': [0.03571428571428571, 0.45], 'empty_queue_penalty_count': 2}\n"
     ]
    }
   ],
   "source": [
    "# Evaluation\n",
    "obs, _ = env.reset(seed=SEED)\n",
    "state = get_coarse_state(env)\n",
    "for t in range(100):\n",
    "    action = int(np.argmax(Q[state]))\n",
    "    obs, reward, done, truncated, info = env.step(action)\n",
    "    env.draw_network_queue()  # Optional: visualize\n",
    "    state = get_coarse_state(env)\n",
    "    if done or truncated:\n",
    "        break\n",
    "print(\"Trained Q-Learning policy results scenario 2 binned:\\n\", env.get_statistics())"
   ]
  },
  {
   "cell_type": "code",
   "execution_count": 101,
   "id": "96665765",
   "metadata": {},
   "outputs": [
    {
     "name": "stdout",
     "output_type": "stream",
     "text": [
      "Trained Q-Learning policy results scenario 2\n",
      ": {'queue_lengths': [1, 0, 40], 'arrivals': [29, 20, 48], 'served': [28, 20, 8], 'mean_delays': [3.4285714285714284, 7.25, 28.875], 'qos_violations': [1, 9], 'violation_rates': [0.03571428571428571, 0.45], 'empty_queue_penalty_count': 2}\n"
     ]
    }
   ],
   "source": [
    "print(\"Trained Q-Learning policy results scenario 2\\n:\", env.get_statistics())"
   ]
  },
  {
   "cell_type": "code",
   "execution_count": null,
   "id": "942510e5-0e2f-4703-831f-e896356c9d45",
   "metadata": {},
   "outputs": [],
   "source": [
    "# # Plot total rewards per episode\n",
    "# plt.figure(figsize=(12, 4))\n",
    "# plt.plot(episode_rewards, label='Total Reward')\n",
    "# plt.title('Q-learning: Episode Reward Over Time (Scenario 2)')\n",
    "# plt.xlabel('Episode')\n",
    "# plt.ylabel('Total Reward')\n",
    "# plt.grid(True)\n",
    "# plt.legend()\n",
    "# plt.show()\n",
    "\n",
    "# # Plot violation rates\n",
    "# plt.figure(figsize=(12, 4))\n",
    "# plt.plot(violation_rates_video, label='Video QoS Violation Rate')\n",
    "# plt.plot(violation_rates_voice, label='Voice QoS Violation Rate')\n",
    "# plt.title('QoS Violation Rate per Episode')\n",
    "# plt.xlabel('Episode')\n",
    "# plt.ylabel('Violation Rate')\n",
    "# plt.grid(True)\n",
    "# plt.legend()\n",
    "# plt.show()\n",
    "\n",
    "# # Plot empty serve counts\n",
    "# plt.figure(figsize=(12, 4))\n",
    "# plt.plot(empty_serve_counts, label='Empty Queue Serve Count', color='red')\n",
    "# plt.title('Empty Queue Serves Over Episodes')\n",
    "# plt.xlabel('Episode')\n",
    "# plt.ylabel('Count')\n",
    "# plt.grid(True)\n",
    "# plt.legend()\n",
    "# plt.show()\n"
   ]
  }
 ],
 "metadata": {
  "kernelspec": {
   "display_name": "base",
   "language": "python",
   "name": "python3"
  },
  "language_info": {
   "codemirror_mode": {
    "name": "ipython",
    "version": 3
   },
   "file_extension": ".py",
   "mimetype": "text/x-python",
   "name": "python",
   "nbconvert_exporter": "python",
   "pygments_lexer": "ipython3",
   "version": "3.12.3"
  }
 },
 "nbformat": 4,
 "nbformat_minor": 5
}
