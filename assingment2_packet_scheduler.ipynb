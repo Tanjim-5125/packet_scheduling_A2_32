{
 "cells": [
  {
   "cell_type": "markdown",
   "id": "b955bcfd",
   "metadata": {},
   "source": [
    "# Packet-Scheduling with Reinforcement Learning\n",
    "\n",
    "**Objective**  \n",
    "Build and compare:\n",
    "1. A custom Gym env for three-class packet scheduling (video/voice/best-effort).  \n",
    "2. Three fixed scheduling policies (FIFO, EDF, Sequential Priority).  \n",
    "3. A tabular Q-learning agent that meets hard-deadline constraints on P1/P2 while minimizing P3 delay for scenario 1.\n",
    "4. ...\n",
    "\n",
    "\n",
    "**Notebook roadmap**  \n",
    "1. [Problem formulation (MDP)](#formulation)  \n",
    "2. [Environment implementation](#env)  \n",
    "3. [Baseline policies](#baselines)  \n",
    "4. [Reinforcement-learning agent](#rl-agent)  \n",
    "5. [Results & comparison](#results)  \n",
    "6. [Conclusions & next steps](#conclusion)  "
   ]
  },
  {
   "cell_type": "markdown",
   "id": "63458512",
   "metadata": {},
   "source": [
    "## 1. MDP Formulation\n",
    "\n",
    "- **State**  \n",
    "  - \\(q_i\\): queue lengths for Video (P1), Voice (P2), Best-Effort (P3).  \n",
    "  - Slack times \\(\\Delta_1, \\Delta_2\\) for P1/P2 head-of-line packets.  \n",
    "  - Current queue pointer \\(c\\).  \n",
    "\n",
    "- **Actions**  \n",
    "  - Low-spec router: serve current queue, switch queue\n",
    "  - High-spec router: switch-and-serve  \n",
    "\n",
    "- **Reward**  \n",
    "  - ...\n",
    "\n",
    "- **Performance metrics**  \n",
    "  - Deadline violations (P1,P2)  \n",
    "  - Mean delay for P3  "
   ]
  },
  {
   "cell_type": "markdown",
   "id": "6abce5f3",
   "metadata": {},
   "source": [
    "### Imports"
   ]
  },
  {
   "cell_type": "code",
   "execution_count": 1,
   "id": "5dc0b0ba-37d8-4a16-9500-676d588d36cf",
   "metadata": {},
   "outputs": [],
   "source": [
    "import matplotlib.pyplot as plt\n",
    "import numpy as np\n",
    "from gymnasium import Env, spaces\n",
    "from IPython.display import clear_output\n",
    "import time\n",
    "from collections import defaultdict"
   ]
  },
  {
   "cell_type": "markdown",
   "id": "893576b9",
   "metadata": {},
   "source": [
    "## 2. PacketSchedulerEnv\n",
    "\n",
    "We implement a Gym Env with:\n",
    "- Poisson arrivals (λ₁=0.3, λ₂=0.25, λ₃=0.4)\n",
    "- Three FIFO queues with per-queue QoS limits [6,4,None]\n",
    "- Two scenarios:  \n",
    "  1. Low-spec router (three actions available -- switch queue, serve queue, and do nothing -- both with cost of one timeslot)  \n",
    "  2. High-spec router (two actiona available -- switch queue and serve, serve current queue, and do nothing -- both of which have a cost of one timeslot) *still need to implement*"
   ]
  },
  {
   "cell_type": "code",
   "execution_count": 2,
   "id": "e8e297fe-f8a0-4ffe-bf43-4645b2bf5f92",
   "metadata": {},
   "outputs": [],
   "source": [
    "import matplotlib.pyplot as plt\n",
    "import numpy as np\n",
    "from gymnasium import Env, spaces\n",
    "from IPython.display import clear_output\n",
    "\n",
    "class PacketSchedulerEnv(Env):\n",
    "    \"\"\"\n",
    "    OpenAI Gymnasium environment simulating packet scheduling across three queues:\n",
    "    \"\"\"\n",
    "\n",
    "    def __init__(self, scenario=1):\n",
    "        \"\"\"\n",
    "        Constructor\n",
    "        takes the scenario 1 or 2 as arguments\n",
    "        \"\"\"\n",
    "        super().__init__()\n",
    "        self.num_queues = 3\n",
    "        self.max_queue_size = 50\n",
    "        self.scenario = scenario\n",
    "        self.current_queue = 0\n",
    "        self.time = 0\n",
    "\n",
    "        self.qos_limits = [6, 4, None]\n",
    "        self.arrival_probs = [0.3, 0.25, 0.4]\n",
    "\n",
    "        self.observation_space = spaces.Box(\n",
    "            low=0, high=self.max_queue_size, shape=(self.num_queues,), dtype=np.int32\n",
    "        )\n",
    "        self.action_space = spaces.Discrete(self.num_queues if scenario == 1 else 2)\n",
    "\n",
    "        self.history = []\n",
    "        self.reset()\n",
    "\n",
    "    def reset(self, seed=None, options=None):\n",
    "        \"\"\"Reset the environment to the initial state.\"\"\"\n",
    "        super().reset(seed=seed)\n",
    "        self.initialize_queues()\n",
    "        self.reset_state()\n",
    "        return self.get_observations(), {}\n",
    "\n",
    "    def initialize_queues(self):\n",
    "        \"\"\"Initialize empty queues for each traffic class.\"\"\"\n",
    "        self.queues = [[] for _ in range(self.num_queues)]\n",
    "\n",
    "    def reset_state(self):\n",
    "        \"\"\"Reset simulation states\"\"\"\n",
    "        self.time = 0\n",
    "        self.current_queue = 0\n",
    "        self.history = []\n",
    "        self.served_delays = [[] for _ in range(self.num_queues)]\n",
    "        self.violations = [0, 0]\n",
    "\n",
    "    def get_observations(self):\n",
    "        \"\"\"Return the current queue length observations\"\"\"\n",
    "        return np.array([len(q) for q in self.queues])\n",
    "\n",
    "    def generate_packets(self):\n",
    "        \"\"\"Randomly generate packets based on per-queue arrival rates.\"\"\"\n",
    "        for queue_id, rate in enumerate(self.arrival_probs):\n",
    "            if self.should_generate_packet(rate):\n",
    "                self.try_enqueue_packet(queue_id, self.time)\n",
    "\n",
    "    def should_generate_packet(self, rate):\n",
    "        \"\"\"True if packets should be generated .\"\"\"\n",
    "        return np.random.rand() < rate\n",
    "\n",
    "    def try_enqueue_packet(self, queue_id, arrival_time):\n",
    "        \"\"\"Add packet to queue if not full.\"\"\"\n",
    "        if len(self.queues[queue_id]) < self.max_queue_size:\n",
    "            self.queues[queue_id].append(arrival_time)\n",
    "\n",
    "    def serve_queue(self, queue_idx):\n",
    "        \"\"\"Serves to Queue\"\"\"\n",
    "        if not self.queue_has_packets(queue_idx):\n",
    "            return self.empty_queue_penalty()\n",
    "\n",
    "        arrival_time = self.queues[queue_idx].pop(0)\n",
    "        delay = self.compute_packet_delay(arrival_time)\n",
    "\n",
    "        self.served_delays[queue_idx].append(delay)\n",
    "\n",
    "       # check if vid and voice violates qos \n",
    "        if queue_idx < 2 and delay > self.qos_limits[queue_idx]:\n",
    "            self.violations[queue_idx] += 1\n",
    "\n",
    "        return self.compute_reward(queue_idx, delay)\n",
    "\n",
    "    def queue_has_packets(self, queue_idx):\n",
    "        \"\"\"Checks if thee's at least one packet in queue\"\"\"\n",
    "        return len(self.queues[queue_idx]) > 0\n",
    "\n",
    "    def empty_queue_penalty(self):\n",
    "        \"\"\"empty queue serve penalty\"\"\"\n",
    "        return -1\n",
    "\n",
    "    def compute_packet_delay(self, arrival_time):\n",
    "        \"\"\"Compute the delay for packet\"\"\"\n",
    "        return self.time - arrival_time\n",
    "\n",
    "    def compute_reward(self, queue_idx, delay):\n",
    "        \"\"\"Compute reward based on delay and QoS constraints.\"\"\"\n",
    "        qos_limit = self.qos_limits[queue_idx]\n",
    "        if qos_limit is not None:\n",
    "            return 1 if delay <= qos_limit else -1\n",
    "        else:\n",
    "            return max(0, 1 - 0.05 * delay)\n",
    "\n",
    "    def process_action(self, action):\n",
    "        \"\"\"Choses which queue to serve\"\"\"\n",
    "        if self.scenario == 1:\n",
    "            return action, 0\n",
    "        elif self.scenario == 2:\n",
    "            if action == 1:\n",
    "                self.switch_queue()\n",
    "                return None, -0.2\n",
    "            else:\n",
    "                return self.current_queue, 0\n",
    "\n",
    "    def switch_queue(self):\n",
    "        \"\"\"sitching queue\"\"\"\n",
    "        self.current_queue = (self.current_queue + 1) % self.num_queues\n",
    "        self.time += 1\n",
    "\n",
    "    def serve_and_advance(self, queue_idx):\n",
    "        \"\"\"serve from queue and increment time +1\"\"\"\n",
    "        reward = self.serve_queue(queue_idx)\n",
    "        self.time += 1\n",
    "        return reward\n",
    "\n",
    "    def step(self, action):\n",
    "        \"\"\"simulates single unit of time in router operation\"\"\"\n",
    "        self.generate_packets()\n",
    "        selected_queue, reward = self.process_action(action)\n",
    "\n",
    "        if selected_queue is not None:\n",
    "            reward = self.serve_and_advance(selected_queue)\n",
    "\n",
    "        terminated = False\n",
    "        truncated = False\n",
    "        return self.get_observations(), reward, terminated, truncated, {}\n",
    "\n",
    "    def draw_network_queue(self):\n",
    "        \"\"\"visual output to see traffic\"\"\"\n",
    "        queue_lengths = [len(q) for q in self.queues]\n",
    "        self.history.append(queue_lengths)\n",
    "\n",
    "        clear_output(wait=True)\n",
    "        plt.figure(figsize=(5, 4))\n",
    "        plt.bar([\"Video\", \"Voice\", \"Best-Effort\"], queue_lengths, color=[\"blue\", \"orange\", \"green\"])\n",
    "        plt.ylim(0, self.max_queue_size)\n",
    "        plt.title(f\"Time Step: {self.time}\")\n",
    "        plt.ylabel(\"Packets in Queue\")\n",
    "        plt.grid(True)\n",
    "        plt.show()\n",
    "\n",
    "    def get_statistics(self):\n",
    "        \"\"\"To check output statistics.\"\"\"\n",
    "        queue_lengths = [len(q) for q in self.queues]\n",
    "        total_packets = [len(q) for q in self.served_delays]\n",
    "        mean_delays = [np.mean(q) if q else None for q in self.served_delays]\n",
    "        violation_rates = [\n",
    "            self.violations[i] / max(1, len(self.served_delays[i]))\n",
    "            for i in range(2)\n",
    "        ]\n",
    "\n",
    "        return {\n",
    "            'queue_lengths': queue_lengths,\n",
    "            'total_packets': total_packets,\n",
    "            'mean_delays': mean_delays,\n",
    "            'qos_violations': self.violations,\n",
    "            'violation_rates': violation_rates\n",
    "        }\n"
   ]
  },
  {
   "cell_type": "markdown",
   "id": "12b4cdda",
   "metadata": {},
   "source": [
    "### 2.1. Quick Environment Sanity Check\n",
    "\n",
    "Instantiate the env with random policy for packet scheduling and print its initial statistics."
   ]
  },
  {
   "cell_type": "code",
   "execution_count": 3,
   "id": "80bb53f7-5c62-4e6e-a7c1-5d1283e29e24",
   "metadata": {},
   "outputs": [
    {
     "data": {
      "image/png": "[encoded data removed]",
      "text/plain": [
       "<Figure size 500x400 with 1 Axes>"
      ]
     },
     "metadata": {},
     "output_type": "display_data"
    }
   ],
   "source": [
    "env = PacketSchedulerEnv(scenario=1)\n",
    "obs, _ = env.reset()\n",
    "\n",
    "for _ in range(50):\n",
    "    action = env.action_space.sample()  # Random policy\n",
    "    obs, reward, done, truncated, info = env.step(action)\n",
    "    env.draw_network_queue()\n",
    "    time.sleep(0.2)\n"
   ]
  },
  {
   "cell_type": "code",
   "execution_count": 4,
   "id": "e3702eeb",
   "metadata": {},
   "outputs": [
    {
     "data": {
      "text/plain": [
       "{'queue_lengths': [6, 0, 2],\n",
       " 'total_packets': [11, 10, 20],\n",
       " 'mean_delays': [6.2727272727272725, 2.1, 4.05],\n",
       " 'qos_violations': [4, 2],\n",
       " 'violation_rates': [0.36363636363636365, 0.2]}"
      ]
     },
     "execution_count": 4,
     "metadata": {},
     "output_type": "execute_result"
    }
   ],
   "source": [
    "env.get_statistics()"
   ]
  },
  {
   "cell_type": "markdown",
   "id": "354e0ead",
   "metadata": {},
   "source": [
    "## 3. Baseline Policies\n",
    "\n",
    "We’ll now compare three fixed schedulers under the same traffic:\n",
    "1. **FIFO** – serve the oldest arrival  \n",
    "2. **EDF** – serve the packet with minimum (deadline – current_wait). i.e. closest to QoS breach  \n",
    "3. **Sequential Priority** – always serve the highest-priority non-empty queue"
   ]
  },
  {
   "cell_type": "code",
   "execution_count": null,
   "id": "5bc653c7-a6cf-44c6-a71e-3e27a1383383",
   "metadata": {},
   "outputs": [
    {
     "data": {
      "image/png": "[encoded data removed]",
      "text/plain": [
       "<Figure size 500x400 with 1 Axes>"
      ]
     },
     "metadata": {},
     "output_type": "display_data"
    },
    {
     "name": "stdout",
     "output_type": "stream",
     "text": [
      "FIFO policy results: {'queue_lengths': [0, 3, 2], 'total_packets': [33, 24, 37], 'mean_delays': [3.5454545454545454, 4.333333333333333, 4.972972972972973], 'qos_violations': [6, 13], 'violation_rates': [0.18181818181818182, 0.5416666666666666]}\n"
     ]
    }
   ],
   "source": [
    "# ─────────────────────────────────────────────────────────────────────────────\n",
    "# Always serve the packet that arrived earliest\n",
    "# ─────────────────────────────────────────────────────────────────────────────\n",
    "\n",
    "# 1. Instantiate & reset\n",
    "env = PacketSchedulerEnv(scenario=1)\n",
    "obs, _ = env.reset()\n",
    "\n",
    "# 2. Run for T steps under FIFO\n",
    "T = 100\n",
    "for t in range(T):\n",
    "    # Look at the head‐of‐line arrival time in each queue (or ∞ if empty)\n",
    "    arrival_times = [\n",
    "        q[0] if len(q) > 0 else float('inf')\n",
    "        for q in env.queues\n",
    "    ]\n",
    "    # Pick the queue whose first packet arrived earliest\n",
    "    action = int(np.argmin(arrival_times))\n",
    "    \n",
    "    # Step the environment\n",
    "    obs, reward, done, truncated, info = env.step(action)\n",
    "    \n",
    "    # (Optional) visualize queue lengths live\n",
    "    env.draw_network_queue()\n",
    "    time.sleep(0.1)\n",
    "\n",
    "# 3. Gather & print post‐run statistics\n",
    "stats = env.get_statistics()\n",
    "print(\"FIFO policy results:\", stats)"
   ]
  },
  {
   "cell_type": "code",
   "execution_count": 6,
   "id": "2aa7b567",
   "metadata": {},
   "outputs": [
    {
     "data": {
      "image/png": "[encoded data removed]",
      "text/plain": [
       "<Figure size 500x400 with 1 Axes>"
      ]
     },
     "metadata": {},
     "output_type": "display_data"
    },
    {
     "name": "stdout",
     "output_type": "stream",
     "text": [
      "Slack‐aware policy results: {'queue_lengths': [0, 0, 43], 'total_packets': [38, 30, 0], 'mean_delays': [1.131578947368421, 1.0333333333333334, None], 'qos_violations': [0, 0], 'violation_rates': [0.0, 0.0]}\n"
     ]
    }
   ],
   "source": [
    "# ─────────────────────────────────────────────────────────────────────────────\n",
    "# always serve the packet whose (qos_limit – accumulated_delay) is smallest\n",
    "# ─────────────────────────────────────────────────────────────────────────────\n",
    "\n",
    "# 1) instantiate & reset\n",
    "env = PacketSchedulerEnv(scenario=1)\n",
    "obs, _ = env.reset()\n",
    "\n",
    "# 2) pull out the per‐queue QoS limits (mean‐delay requirements)\n",
    "mean_reqs = env.qos_limits    # e.g. [6, 4, None]\n",
    "\n",
    "# 3) run for T steps\n",
    "T = 100\n",
    "for t in range(T):\n",
    "    slacks = []\n",
    "    for i, q in enumerate(env.queues):\n",
    "        # if queue is non‐empty and has a finite QoS limit\n",
    "        if q and (mean_reqs[i] is not None):\n",
    "            arrival_time = q[0]                   # packets stored as simple arrival_time\n",
    "            acc_delay    = env.time - arrival_time  # or t – arrival_time, both track sim time\n",
    "            slack        = mean_reqs[i] - acc_delay\n",
    "        else:\n",
    "            # empty queue or no deadline ⇒ never highest priority\n",
    "            slack = float('inf')\n",
    "        slacks.append(slack)\n",
    "\n",
    "    # choose the queue with minimum slack\n",
    "    action = int(np.argmin(slacks))\n",
    "\n",
    "    # step the env \n",
    "    obs, reward, done, truncated, info = env.step(action)\n",
    "    env.draw_network_queue()\n",
    "    time.sleep(0.1)\n",
    "\n",
    "# 4) final statistics\n",
    "stats = env.get_statistics()\n",
    "print(\"Slack‐aware policy results:\", stats)"
   ]
  },
  {
   "cell_type": "code",
   "execution_count": null,
   "id": "3d6a10b7",
   "metadata": {},
   "outputs": [
    {
     "data": {
      "image/png": "[encoded data removed]",
      "text/plain": [
       "<Figure size 500x400 with 1 Axes>"
      ]
     },
     "metadata": {},
     "output_type": "display_data"
    },
    {
     "name": "stdout",
     "output_type": "stream",
     "text": [
      "Priority‐policy results: {'queue_lengths': [1, 1, 17], 'total_packets': [40, 27, 30], 'mean_delays': [0.975, 1.9259259259259258, 15.033333333333333], 'qos_violations': [0, 2], 'violation_rates': [0.0, 0.07407407407407407]}\n"
     ]
    }
   ],
   "source": [
    "# ─────────────────────────────────────────────────────────────────────────────\n",
    "# always serve the highest‐priority non‐empty queue\n",
    "# ─────────────────────────────────────────────────────────────────────────────\n",
    "\n",
    "# 1) instantiate & reset\n",
    "env = PacketSchedulerEnv(scenario=1)\n",
    "obs, _ = env.reset()\n",
    "\n",
    "# 2) run for T steps\n",
    "T = 100\n",
    "for t in range(T):\n",
    "    # pick the highest‐priority non‐empty queue\n",
    "    action = None\n",
    "    for q_idx in range(env.num_queues):\n",
    "        if env.queues[q_idx]:\n",
    "            action = q_idx\n",
    "            break\n",
    "    # if all queues empty, default to queue 0 (no service will happen)\n",
    "    if action is None:\n",
    "        action = 0\n",
    "\n",
    "    # step & visualize\n",
    "    obs, reward, done, truncated, info = env.step(action)\n",
    "    env.draw_network_queue()\n",
    "    time.sleep(0.1)\n",
    "\n",
    "# 3) report statistics\n",
    "stats = env.get_statistics()\n",
    "print(\"Priority‐policy results:\", stats)"
   ]
  },
  {
   "cell_type": "markdown",
   "id": "3fc1b1fa",
   "metadata": {},
   "source": [
    "## 5. Tabular Q-Learning Agent\n",
    "\n",
    "We’ll train a tabular Q-learning agent using scenario 1:\n",
    "- **State**: discretized queue lengths  \n",
    "- **Action space**: 3 choices (switch queue, serve queue, do nothing)\n",
    "- **Hyperparameters**:  \n",
    "  - α=0.1, γ=0.99  \n",
    "  - ε-greedy exploration (ε₀=1.0 → εₘᵢₙ=0.01)  \n",
    "  - Episodes=500, max_steps=100  "
   ]
  },
  {
   "cell_type": "code",
   "execution_count": 8,
   "id": "f68d0ca6",
   "metadata": {},
   "outputs": [
    {
     "data": {
      "image/png": "[encoded data removed]",
      "text/plain": [
       "<Figure size 500x400 with 1 Axes>"
      ]
     },
     "metadata": {},
     "output_type": "display_data"
    },
    {
     "name": "stdout",
     "output_type": "stream",
     "text": [
      "Trained Q-Learning policy results: {'queue_lengths': [0, 8, 2], 'total_packets': [29, 18, 40], 'mean_delays': [1.0, 9.666666666666666, 2.8], 'qos_violations': [0, 14], 'violation_rates': [0.0, 0.7777777777777778]}\n"
     ]
    }
   ],
   "source": [
    "# ─────────────────────────────────────────────────────────────────────────────\n",
    "# Tabular Q-Learning for PacketSchedulerEnv (scenario 1)\n",
    "# ─────────────────────────────────────────────────────────────────────────────\n",
    "\n",
    "\n",
    "# 1) Create the environment\n",
    "env = PacketSchedulerEnv(scenario=1)\n",
    "\n",
    "# 2) Q-table: maps state (tuple) → array of action-values\n",
    "Q = defaultdict(lambda: np.zeros(env.action_space.n))\n",
    "\n",
    "# 3) Hyperparameters\n",
    "alpha         = 0.1    # learning rate\n",
    "gamma         = 0.99   # discount factor\n",
    "epsilon       = 1.0    # initial exploration rate\n",
    "epsilon_min   = 0.01   # minimum ε\n",
    "epsilon_decay = 0.995  # multiplicative decay per episode\n",
    "num_episodes  = 500\n",
    "max_steps     = 100    # max steps per episode\n",
    "\n",
    "# 4) Training loop\n",
    "for ep in range(1, num_episodes+1):\n",
    "    obs, _ = env.reset()\n",
    "    state = tuple(obs)            # cast observation to immutable\n",
    "    total_reward = 0.0\n",
    "\n",
    "    for t in range(max_steps):\n",
    "        # ε-greedy action selection\n",
    "        if np.random.rand() < epsilon:\n",
    "            action = env.action_space.sample()\n",
    "        else:\n",
    "            action = int(np.argmax(Q[state]))\n",
    "\n",
    "        # take action\n",
    "        obs2, reward, done, truncated, info = env.step(action)\n",
    "        next_state = tuple(obs2)\n",
    "        total_reward += reward\n",
    "\n",
    "        # Q-learning update\n",
    "        best_next = np.max(Q[next_state])\n",
    "        td_target = reward + gamma * best_next\n",
    "        Q[state][action] += alpha * (td_target - Q[state][action])\n",
    "\n",
    "        state = next_state\n",
    "        if done or truncated:\n",
    "            break\n",
    "\n",
    "    # decay ε\n",
    "    epsilon = max(epsilon_min, epsilon * epsilon_decay)\n",
    "\n",
    "    if ep % 50 == 0:\n",
    "        print(f\"Episode {ep}/{num_episodes}  total_reward={total_reward:.1f}  ε={epsilon:.3f}\")\n",
    "\n",
    "# 5) Evaluate the learned policy\n",
    "obs, _ = env.reset()\n",
    "state = tuple(obs)\n",
    "for t in range(100):\n",
    "    action = int(np.argmax(Q[state]))\n",
    "    obs, reward, done, truncated, info = env.step(action)\n",
    "    env.draw_network_queue()\n",
    "    time.sleep(0.1)\n",
    "    state = tuple(obs)\n",
    "    if done or truncated:\n",
    "        break\n",
    "\n",
    "print(\"Trained Q-Learning policy results:\", env.get_statistics())"
   ]
  }
 ],
 "metadata": {
  "kernelspec": {
   "display_name": "base",
   "language": "python",
   "name": "python3"
  },
  "language_info": {
   "codemirror_mode": {
    "name": "ipython",
    "version": 3
   },
   "file_extension": ".py",
   "mimetype": "text/x-python",
   "name": "python",
   "nbconvert_exporter": "python",
   "pygments_lexer": "ipython3",
   "version": "3.12.4"
  }
 },
 "nbformat": 4,
 "nbformat_minor": 5
}
