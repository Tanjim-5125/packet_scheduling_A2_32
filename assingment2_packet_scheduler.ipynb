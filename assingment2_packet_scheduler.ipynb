{
 "cells": [
  {
   "cell_type": "markdown",
   "id": "7c3039f4-ed01-44bf-8fb0-74220a9090ed",
   "metadata": {},
   "source": [
    "# Imports"
   ]
  },
  {
   "cell_type": "code",
   "execution_count": 9,
   "id": "5dc0b0ba-37d8-4a16-9500-676d588d36cf",
   "metadata": {},
   "outputs": [],
   "source": [
    "import matplotlib.pyplot as plt\n",
    "import numpy as np\n",
    "from gymnasium import Env, spaces\n",
    "from IPython.display import clear_output\n",
    "import time"
   ]
  },
  {
   "cell_type": "code",
   "execution_count": 10,
   "id": "e8e297fe-f8a0-4ffe-bf43-4645b2bf5f92",
   "metadata": {},
   "outputs": [],
   "source": [
    "import matplotlib.pyplot as plt\n",
    "import numpy as np\n",
    "from gymnasium import Env, spaces\n",
    "from IPython.display import clear_output\n",
    "\n",
    "class PacketSchedulerEnv(Env):\n",
    "    \"\"\"\n",
    "    OpenAI Gymnasium environment simulating packet scheduling across three queues:\n",
    "    \"\"\"\n",
    "\n",
    "    def __init__(self, scenario=1):\n",
    "        \"\"\"\n",
    "        Constructor\n",
    "        takes the scenario 1 or 2 as arguments\n",
    "        \"\"\"\n",
    "        super().__init__()\n",
    "        self.num_queues = 3\n",
    "        self.max_queue_size = 50\n",
    "        self.scenario = scenario\n",
    "        self.current_queue = 0\n",
    "        self.time = 0\n",
    "\n",
    "        self.qos_limits = [6, 4, None]\n",
    "        self.arrival_probs = [0.3, 0.25, 0.4]\n",
    "\n",
    "        self.observation_space = spaces.Box(\n",
    "            low=0, high=self.max_queue_size, shape=(self.num_queues,), dtype=np.int32\n",
    "        )\n",
    "        self.action_space = spaces.Discrete(self.num_queues if scenario == 1 else 2)\n",
    "\n",
    "        self.history = []\n",
    "        self.reset()\n",
    "\n",
    "    def reset(self, seed=None, options=None):\n",
    "        \"\"\"Reset the environment to the initial state.\"\"\"\n",
    "        super().reset(seed=seed)\n",
    "        self.initialize_queues()\n",
    "        self.reset_state()\n",
    "        return self.get_observations(), {}\n",
    "\n",
    "    def initialize_queues(self):\n",
    "        \"\"\"Initialize empty queues for each traffic class.\"\"\"\n",
    "        self.queues = [[] for _ in range(self.num_queues)]\n",
    "\n",
    "    def reset_state(self):\n",
    "        \"\"\"Reset simulation states\"\"\"\n",
    "        self.time = 0\n",
    "        self.current_queue = 0\n",
    "        self.history = []\n",
    "        self.served_delays = [[] for _ in range(self.num_queues)]\n",
    "        self.violations = [0, 0]\n",
    "\n",
    "    def get_observations(self):\n",
    "        \"\"\"Return the current queue length observations\"\"\"\n",
    "        return np.array([len(q) for q in self.queues])\n",
    "\n",
    "    def generate_packets(self):\n",
    "        \"\"\"Randomly generate packets based on per-queue arrival rates.\"\"\"\n",
    "        for queue_id, rate in enumerate(self.arrival_probs):\n",
    "            if self.should_generate_packet(rate):\n",
    "                self.try_enqueue_packet(queue_id, self.time)\n",
    "\n",
    "    def should_generate_packet(self, rate):\n",
    "        \"\"\"True if packets should be generated .\"\"\"\n",
    "        return np.random.rand() < rate\n",
    "\n",
    "    def try_enqueue_packet(self, queue_id, arrival_time):\n",
    "        \"\"\"Add packet to queue if not full.\"\"\"\n",
    "        if len(self.queues[queue_id]) < self.max_queue_size:\n",
    "            self.queues[queue_id].append(arrival_time)\n",
    "\n",
    "    def serve_queue(self, queue_idx):\n",
    "        \"\"\"Serves to Queue\"\"\"\n",
    "        if not self.queue_has_packets(queue_idx):\n",
    "            return self.empty_queue_penalty()\n",
    "\n",
    "        arrival_time = self.queues[queue_idx].pop(0)\n",
    "        delay = self.compute_packet_delay(arrival_time)\n",
    "\n",
    "        self.served_delays[queue_idx].append(delay)\n",
    "\n",
    "       # check if vid and voice violates qos \n",
    "        if queue_idx < 2 and delay > self.qos_limits[queue_idx]:\n",
    "            self.violations[queue_idx] += 1\n",
    "\n",
    "        return self.compute_reward(queue_idx, delay)\n",
    "\n",
    "    def queue_has_packets(self, queue_idx):\n",
    "        \"\"\"Checks if thee's at least one packet in queue\"\"\"\n",
    "        return len(self.queues[queue_idx]) > 0\n",
    "\n",
    "    def empty_queue_penalty(self):\n",
    "        \"\"\"empty queue serve penalty\"\"\"\n",
    "        return -1\n",
    "\n",
    "    def compute_packet_delay(self, arrival_time):\n",
    "        \"\"\"Compute the delay for packet\"\"\"\n",
    "        return self.time - arrival_time\n",
    "\n",
    "    def compute_reward(self, queue_idx, delay):\n",
    "        \"\"\"Compute reward based on delay and QoS constraints.\"\"\"\n",
    "        qos_limit = self.qos_limits[queue_idx]\n",
    "        if qos_limit is not None:\n",
    "            return 1 if delay <= qos_limit else -1\n",
    "        else:\n",
    "            return max(0, 1 - 0.05 * delay)\n",
    "\n",
    "    def process_action(self, action):\n",
    "        \"\"\"Choses which queue to serve\"\"\"\n",
    "        if self.scenario == 1:\n",
    "            return action, 0\n",
    "        elif self.scenario == 2:\n",
    "            if action == 1:\n",
    "                self.switch_queue()\n",
    "                return None, -0.2\n",
    "            else:\n",
    "                return self.current_queue, 0\n",
    "\n",
    "    def switch_queue(self):\n",
    "        \"\"\"sitching queue\"\"\"\n",
    "        self.current_queue = (self.current_queue + 1) % self.num_queues\n",
    "        self.time += 1\n",
    "\n",
    "    def serve_and_advance(self, queue_idx):\n",
    "        \"\"\"serve from queue and increment time +1\"\"\"\n",
    "        reward = self.serve_queue(queue_idx)\n",
    "        self.time += 1\n",
    "        return reward\n",
    "\n",
    "    def step(self, action):\n",
    "        \"\"\"simulates single unit of time in router operation\"\"\"\n",
    "        self.generate_packets()\n",
    "        selected_queue, reward = self.process_action(action)\n",
    "\n",
    "        if selected_queue is not None:\n",
    "            reward = self.serve_and_advance(selected_queue)\n",
    "\n",
    "        terminated = False\n",
    "        truncated = False\n",
    "        return self.get_observations(), reward, terminated, truncated, {}\n",
    "\n",
    "    def draw_network_queue(self):\n",
    "        \"\"\"visual output to see traffic\"\"\"\n",
    "        queue_lengths = [len(q) for q in self.queues]\n",
    "        self.history.append(queue_lengths)\n",
    "\n",
    "        clear_output(wait=True)\n",
    "        plt.figure(figsize=(5, 4))\n",
    "        plt.bar([\"Video\", \"Voice\", \"Best-Effort\"], queue_lengths, color=[\"blue\", \"orange\", \"green\"])\n",
    "        plt.ylim(0, self.max_queue_size)\n",
    "        plt.title(f\"Time Step: {self.time}\")\n",
    "        plt.ylabel(\"Packets in Queue\")\n",
    "        plt.grid(True)\n",
    "        plt.show()\n",
    "\n",
    "    def get_statistics(self):\n",
    "        \"\"\"To check output statistics.\"\"\"\n",
    "        queue_lengths = [len(q) for q in self.queues]\n",
    "        total_packets = [len(q) for q in self.served_delays]\n",
    "        mean_delays = [np.mean(q) if q else None for q in self.served_delays]\n",
    "        violation_rates = [\n",
    "            self.violations[i] / max(1, len(self.served_delays[i]))\n",
    "            for i in range(2)\n",
    "        ]\n",
    "\n",
    "        return {\n",
    "            'queue_lengths': queue_lengths,\n",
    "            'total_packets': total_packets,\n",
    "            'mean_delays': mean_delays,\n",
    "            'qos_violations': self.violations,\n",
    "            'violation_rates': violation_rates\n",
    "        }\n"
   ]
  },
  {
   "cell_type": "code",
   "execution_count": 11,
   "id": "80bb53f7-5c62-4e6e-a7c1-5d1283e29e24",
   "metadata": {},
   "outputs": [
    {
     "data": {
      "image/png": "[encoded data removed]",
      "text/plain": [
       "<Figure size 500x400 with 1 Axes>"
      ]
     },
     "metadata": {},
     "output_type": "display_data"
    }
   ],
   "source": [
    "env = PacketSchedulerEnv(scenario=1)\n",
    "obs, _ = env.reset()\n",
    "\n",
    "for _ in range(50):\n",
    "    action = env.action_space.sample()  # Random policy\n",
    "    obs, reward, done, truncated, info = env.step(action)\n",
    "    env.draw_network_queue()\n",
    "    time.sleep(0.2)\n"
   ]
  },
  {
   "cell_type": "code",
   "execution_count": 12,
   "id": "e3702eeb",
   "metadata": {},
   "outputs": [
    {
     "data": {
      "text/plain": [
       "{'queue_lengths': [5, 5, 2],\n",
       " 'total_packets': [16, 9, 19],\n",
       " 'mean_delays': [6.5, 5.444444444444445, 9.421052631578947],\n",
       " 'qos_violations': [6, 7],\n",
       " 'violation_rates': [0.375, 0.7777777777777778]}"
      ]
     },
     "execution_count": 12,
     "metadata": {},
     "output_type": "execute_result"
    }
   ],
   "source": [
    "env.get_statistics()"
   ]
  },
  {
   "cell_type": "code",
   "execution_count": 13,
   "id": "5bc653c7-a6cf-44c6-a71e-3e27a1383383",
   "metadata": {},
   "outputs": [
    {
     "data": {
      "image/png": "[encoded data removed]",
      "text/plain": [
       "<Figure size 500x400 with 1 Axes>"
      ]
     },
     "metadata": {},
     "output_type": "display_data"
    },
    {
     "name": "stdout",
     "output_type": "stream",
     "text": [
      "FIFO policy results: {'queue_lengths': [0, 2, 2], 'total_packets': [30, 29, 36], 'mean_delays': [3.7666666666666666, 4.241379310344827, 4.138888888888889], 'qos_violations': [1, 12], 'violation_rates': [0.03333333333333333, 0.41379310344827586]}\n"
     ]
    }
   ],
   "source": [
    "# ─────────────────────────────────────────────────────────────────────────────\n",
    "# FIFO scheduling policy simulation\n",
    "# ─────────────────────────────────────────────────────────────────────────────\n",
    "\n",
    "# 1. Instantiate & reset\n",
    "env = PacketSchedulerEnv(scenario=1)\n",
    "obs, _ = env.reset()\n",
    "\n",
    "# 2. Run for T steps under FIFO\n",
    "T = 100\n",
    "for t in range(T):\n",
    "    # Look at the head‐of‐line arrival time in each queue (or ∞ if empty)\n",
    "    arrival_times = [\n",
    "        q[0] if len(q) > 0 else float('inf')\n",
    "        for q in env.queues\n",
    "    ]\n",
    "    # Pick the queue whose first packet arrived earliest\n",
    "    action = int(np.argmin(arrival_times))\n",
    "    \n",
    "    # Step the environment\n",
    "    obs, reward, done, truncated, info = env.step(action)\n",
    "    \n",
    "    # (Optional) visualize queue lengths live\n",
    "    env.draw_network_queue()\n",
    "    time.sleep(0.1)\n",
    "\n",
    "# 3. Gather & print post‐run statistics\n",
    "stats = env.get_statistics()\n",
    "print(\"FIFO policy results:\", stats)"
   ]
  },
  {
   "cell_type": "code",
   "execution_count": 14,
   "id": "2aa7b567",
   "metadata": {},
   "outputs": [
    {
     "data": {
      "image/png": "[encoded data removed]",
      "text/plain": [
       "<Figure size 500x400 with 1 Axes>"
      ]
     },
     "metadata": {},
     "output_type": "display_data"
    },
    {
     "name": "stdout",
     "output_type": "stream",
     "text": [
      "Slack‐aware policy results: {'queue_lengths': [0, 0, 46], 'total_packets': [30, 23, 0], 'mean_delays': [0.43333333333333335, 1.0, None], 'qos_violations': [0, 0], 'violation_rates': [0.0, 0.0]}\n"
     ]
    }
   ],
   "source": [
    "# ─────────────────────────────────────────────────────────────────────────────\n",
    "# always serve the packet whose (qos_limit – accumulated_delay) is smallest\n",
    "# ─────────────────────────────────────────────────────────────────────────────\n",
    "\n",
    "# 1) instantiate & reset\n",
    "env = PacketSchedulerEnv(scenario=1)\n",
    "obs, _ = env.reset()\n",
    "\n",
    "# 2) pull out the per‐queue QoS limits (mean‐delay requirements)\n",
    "mean_reqs = env.qos_limits    # e.g. [6, 4, None]\n",
    "\n",
    "# 3) run for T steps\n",
    "T = 100\n",
    "for t in range(T):\n",
    "    slacks = []\n",
    "    for i, q in enumerate(env.queues):\n",
    "        # if queue is non‐empty and has a finite QoS limit\n",
    "        if q and (mean_reqs[i] is not None):\n",
    "            arrival_time = q[0]                   # packets stored as simple arrival_time\n",
    "            acc_delay    = env.time - arrival_time  # or t – arrival_time, both track sim time\n",
    "            slack        = mean_reqs[i] - acc_delay\n",
    "        else:\n",
    "            # empty queue or no deadline ⇒ never highest priority\n",
    "            slack = float('inf')\n",
    "        slacks.append(slack)\n",
    "\n",
    "    # choose the queue with minimum slack\n",
    "    action = int(np.argmin(slacks))\n",
    "\n",
    "    # step the env & optional live visualization\n",
    "    obs, reward, done, truncated, info = env.step(action)\n",
    "    env.draw_network_queue()\n",
    "    time.sleep(0.1)\n",
    "\n",
    "# 4) final statistics\n",
    "stats = env.get_statistics()\n",
    "print(\"Slack‐aware policy results:\", stats)"
   ]
  },
  {
   "cell_type": "code",
   "execution_count": 15,
   "id": "3d6a10b7",
   "metadata": {},
   "outputs": [
    {
     "data": {
      "image/png": "[encoded data removed]",
      "text/plain": [
       "<Figure size 500x400 with 1 Axes>"
      ]
     },
     "metadata": {},
     "output_type": "display_data"
    },
    {
     "name": "stdout",
     "output_type": "stream",
     "text": [
      "Priority‐policy results: {'queue_lengths': [0, 1, 1], 'total_packets': [27, 21, 33], 'mean_delays': [0.8148148148148148, 1.4761904761904763, 3.6363636363636362], 'qos_violations': [0, 0], 'violation_rates': [0.0, 0.0]}\n"
     ]
    }
   ],
   "source": [
    "# ─────────────────────────────────────────────────────────────────────────────\n",
    "# always serve the highest‐priority non‐empty queue (0 > 1 > 2)\n",
    "# ─────────────────────────────────────────────────────────────────────────────\n",
    "\n",
    "# 1) instantiate & reset\n",
    "env = PacketSchedulerEnv(scenario=1)\n",
    "obs, _ = env.reset()\n",
    "\n",
    "# 2) run for T steps\n",
    "T = 100\n",
    "for t in range(T):\n",
    "    # pick the highest‐priority non‐empty queue\n",
    "    action = None\n",
    "    for q_idx in range(env.num_queues):\n",
    "        if env.queues[q_idx]:\n",
    "            action = q_idx\n",
    "            break\n",
    "    # if all queues empty, default to queue 0 (no service will happen)\n",
    "    if action is None:\n",
    "        action = 0\n",
    "\n",
    "    # step & (optionally) visualize\n",
    "    obs, reward, done, truncated, info = env.step(action)\n",
    "    env.draw_network_queue()\n",
    "    time.sleep(0.1)\n",
    "\n",
    "# 3) report statistics\n",
    "stats = env.get_statistics()\n",
    "print(\"Priority‐policy results:\", stats)"
   ]
  },
  {
   "cell_type": "code",
   "execution_count": null,
   "id": "f68d0ca6",
   "metadata": {},
   "outputs": [],
   "source": []
  }
 ],
 "metadata": {
  "kernelspec": {
   "display_name": "base",
   "language": "python",
   "name": "python3"
  },
  "language_info": {
   "codemirror_mode": {
    "name": "ipython",
    "version": 3
   },
   "file_extension": ".py",
   "mimetype": "text/x-python",
   "name": "python",
   "nbconvert_exporter": "python",
   "pygments_lexer": "ipython3",
   "version": "3.12.4"
  }
 },
 "nbformat": 4,
 "nbformat_minor": 5
}
